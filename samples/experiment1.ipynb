{
 "cells": [
  {
   "cell_type": "markdown",
   "metadata": {},
   "source": [
    "# Experiment 1\n",
    "\n",
    "How well do TPMS scores predict bids?\n",
    "\n",
    "The deliverable will be a plot showing the performance of the TPMS scores on the \"recall@M\" evaluation metric.\n",
    "\n",
    "Plan:\n",
    "- load eval data for UAI 18 conference\n",
    "- load a model (which could be pre-trained, if the model requires training)\n",
    "- evaluate the model and produce graphs"
   ]
  },
  {
   "cell_type": "code",
   "execution_count": 1,
   "metadata": {
    "collapsed": true
   },
   "outputs": [],
   "source": [
    "import os, sys\n",
    "\n",
    "import json, csv\n",
    "import itertools\n",
    "\n",
    "import openreview\n",
    "import numpy\n",
    "\n",
    "from collections import defaultdict\n",
    "from expertise.models import tfidf, randomize, model_utils"
   ]
  },
  {
   "cell_type": "markdown",
   "metadata": {},
   "source": [
    "## Data\n",
    "\n",
    "\n",
    "Load up data from OpenReview and organize it into various indices"
   ]
  },
  {
   "cell_type": "code",
   "execution_count": 2,
   "metadata": {},
   "outputs": [
    {
     "name": "stdout",
     "output_type": "stream",
     "text": [
      "i can review 2256\n",
      "i can probably review but am not an expert 2633\n",
      "i want to review 1486\n",
      "i cannot review 9024\n",
      "no bid 754\n"
     ]
    }
   ],
   "source": [
    "client = openreview.Client()\n",
    "\n",
    "papers = client.get_notes(invitation='auai.org/UAI/2018/-/Blind_Submission')\n",
    "paper_by_number = {n.number: n for n in papers}\n",
    "\n",
    "reviewers = client.get_group('auai.org/UAI/2018/Program_Committee')\n",
    "\n",
    "all_tags = list(openreview.tools.iterget_tags(client, invitation='auai.org/UAI/2018/-/Add_Bid'))\n",
    "\n",
    "binned_tags = {\n",
    "    'i want to review': [],\n",
    "    'i can review': [],\n",
    "    'i can probably review but am not an expert': [],\n",
    "    'i cannot review': [],\n",
    "    'no bid': []\n",
    "}\n",
    "\n",
    "users_w_bids = set()\n",
    "for tag in all_tags:\n",
    "    binned_tags[tag.tag.lower()].append(tag)\n",
    "    users_w_bids.update(tag.signatures)\n",
    "\n",
    "for b in binned_tags:\n",
    "    print(b, len(binned_tags[b]))\n",
    "\n",
    "bids_by_forum = defaultdict(list)\n",
    "for tag in all_tags:\n",
    "    bids_by_forum[tag.forum].append(tag)"
   ]
  },
  {
   "cell_type": "markdown",
   "metadata": {},
   "source": [
    "## Models\n",
    "\n",
    "Models should all have a function with the following contract:\n",
    "\n",
    "```\n",
    "def score(archive_text, paper_text):\n",
    "    '''\n",
    "    Returns a score from 0.0 to 1.0, representing the degree of fit between the paper and the reviewer\n",
    "    '''\n",
    "```"
   ]
  },
  {
   "cell_type": "markdown",
   "metadata": {},
   "source": [
    "TF-IDF model\n",
    "\n",
    "Run the tf-idf model using `openreview-expertise/samples/uai-process-tfidf.py`, then read from the resulting file"
   ]
  },
  {
   "cell_type": "code",
   "execution_count": 3,
   "metadata": {
    "collapsed": true
   },
   "outputs": [],
   "source": [
    "tfidf_score_matrix = {}\n",
    "with open('old-scores') as f:\n",
    "    lines = [line.replace('\\n','') for line in f.readlines()]\n",
    "\n",
    "for line in lines:\n",
    "    note_id, reviewer_id, score = eval(line)\n",
    "    if note_id not in tfidf_score_matrix:\n",
    "        tfidf_score_matrix[note_id] = {}\n",
    "    if reviewer_id not in tfidf_score_matrix[note_id]:\n",
    "        tfidf_score_matrix[note_id][reviewer_id] = score\n",
    "    else:\n",
    "        raise('pair already seen ', note_id, reviewer_id, score)\n",
    "        \n",
    "tfidf_ranklists = model_utils.matrix_to_ranklists(tfidf_score_matrix)"
   ]
  },
  {
   "cell_type": "markdown",
   "metadata": {},
   "source": [
    "TPMS \"model\"\n",
    "\n",
    "(it's actually just the output of a model. We don't have access to TPMS directly)"
   ]
  },
  {
   "cell_type": "code",
   "execution_count": 4,
   "metadata": {
    "collapsed": true
   },
   "outputs": [],
   "source": [
    "# score_matrix['abcXYZ']['~Michael_Spector'] = the TPMS score of Michael Spector with paper 1\n",
    "tpms_score_matrix = defaultdict(dict) \n",
    "users_w_scores = set()\n",
    "\n",
    "with open('/Users/michaelspector/projects/openreview/openreview-expertise/data/uai18/uai18-tpms-scores.csv') as f:\n",
    "    reader = csv.reader(f)\n",
    "    try:\n",
    "        for row in reader:\n",
    "            papernum, user_id, score, email = row\n",
    "            paper = paper_by_number.get(int(papernum))\n",
    "            if paper:\n",
    "                users_w_scores.update([user_id])\n",
    "                tpms_score_matrix[paper.id][user_id] = score\n",
    "            \n",
    "    except UnicodeDecodeError as e:\n",
    "        print(e)\n",
    "        raise(e)\n",
    "\n",
    "# convert the score matrix to a list of \"ranklists\", for now.\n",
    "# this is mostly being done so that I don't have to rewrite a lot of code. In the future this may not be necessary.\n",
    "tpms_ranklists = model_utils.matrix_to_ranklists(tpms_score_matrix)"
   ]
  },
  {
   "cell_type": "markdown",
   "metadata": {},
   "source": [
    "Random model"
   ]
  },
  {
   "cell_type": "code",
   "execution_count": 5,
   "metadata": {
    "collapsed": true
   },
   "outputs": [],
   "source": [
    "# instantiate the model\n",
    "randomize_model = randomize.Model()\n",
    "\n",
    "randomize_score_matrix = defaultdict(dict)\n",
    "for paper in papers:\n",
    "    for reviewer_id in reviewers.members:\n",
    "        randomize_score_matrix[paper.id][reviewer_id] = randomize_model.score()\n",
    "\n",
    "# convert the score matrix to a list of \"ranklists\", for now.\n",
    "# this is mostly being done so that I don't have to rewrite a lot of code. In the future this may not be necessary.\n",
    "random_ranklists = model_utils.matrix_to_ranklists(randomize_score_matrix)"
   ]
  },
  {
   "cell_type": "markdown",
   "metadata": {
    "collapsed": true
   },
   "source": [
    "## Evaluation & Graphing"
   ]
  },
  {
   "cell_type": "code",
   "execution_count": 6,
   "metadata": {
    "collapsed": true
   },
   "outputs": [],
   "source": [
    "from expertise.evaluators import recall_at_m\n",
    "from expertise import graphing\n",
    "import numpy as np\n",
    "import matplotlib, matplotlib.pyplot as plt\n",
    "matplotlib.style.use('ggplot')"
   ]
  },
  {
   "cell_type": "code",
   "execution_count": 7,
   "metadata": {
    "collapsed": true
   },
   "outputs": [],
   "source": [
    "evaluator = recall_at_m.Evaluator(bids_by_forum=bids_by_forum)"
   ]
  },
  {
   "cell_type": "code",
   "execution_count": 8,
   "metadata": {
    "collapsed": true
   },
   "outputs": [],
   "source": [
    "def get_avg_scores(ranklists, evaluator):\n",
    "    all_scores = []\n",
    "    for forum, scores in evaluator.evaluate(ranklists):\n",
    "        all_scores.append(scores)\n",
    "    if all_scores:\n",
    "        avg_scores = np.mean(all_scores, axis=0)\n",
    "    else:\n",
    "        avg_scores = []\n",
    "        \n",
    "    return avg_scores"
   ]
  },
  {
   "cell_type": "code",
   "execution_count": 9,
   "metadata": {},
   "outputs": [],
   "source": [
    "tpms_avg_scores = get_avg_scores(tpms_ranklists, evaluator)\n",
    "tfidf_avg_scores = get_avg_scores(tfidf_ranklists, evaluator)\n",
    "random_avg_scores = get_avg_scores(random_ranklists, evaluator)"
   ]
  },
  {
   "cell_type": "code",
   "execution_count": 10,
   "metadata": {},
   "outputs": [
    {
     "data": {
      "image/png": "[encoded data removed]",
      "text/plain": [
       "<Figure size 432x288 with 1 Axes>"
      ]
     },
     "metadata": {},
     "output_type": "display_data"
    }
   ],
   "source": [
    "fig, ax = plt.subplots()\n",
    "\n",
    "ax = graphing.recall_at_m(tpms_avg_scores, ax, 'tpms')\n",
    "ax = graphing.recall_at_m(tfidf_avg_scores, ax, 'tfidf')\n",
    "ax = graphing.recall_at_m(random_avg_scores, ax, 'random')\n",
    "\n",
    "plt.tight_layout()\n",
    "\n",
    "filename = 'tpms-tfidf-random'\n",
    "fig.savefig(\"./{0}.png\".format(filename), dpi=200)"
   ]
  }
 ],
 "metadata": {
  "kernelspec": {
   "display_name": "openreview",
   "language": "python",
   "name": "openreview"
  },
  "language_info": {
   "codemirror_mode": {
    "name": "ipython",
    "version": 3
   },
   "file_extension": ".py",
   "mimetype": "text/x-python",
   "name": "python",
   "nbconvert_exporter": "python",
   "pygments_lexer": "ipython3",
   "version": "3.5.4"
  }
 },
 "nbformat": 4,
 "nbformat_minor": 2
}
